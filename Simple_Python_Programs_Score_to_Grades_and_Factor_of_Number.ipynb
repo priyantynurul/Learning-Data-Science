{
  "nbformat": 4,
  "nbformat_minor": 0,
  "metadata": {
    "colab": {
      "name": "Simple Python Programs: Score to Grades and Factor of Number",
      "provenance": [],
      "authorship_tag": "ABX9TyOZxgmKwTNpP1BeXP1EVYaD",
      "include_colab_link": true
    },
    "kernelspec": {
      "name": "python3",
      "display_name": "Python 3"
    },
    "language_info": {
      "name": "python"
    }
  },
  "cells": [
    {
      "cell_type": "markdown",
      "metadata": {
        "id": "view-in-github",
        "colab_type": "text"
      },
      "source": [
        "<a href=\"https://colab.research.google.com/github/priyantynurul/Learning-Data-Science/blob/main/Simple_Python_Programs_Score_to_Grades_and_Factor_of_Number.ipynb\" target=\"_parent\"><img src=\"https://colab.research.google.com/assets/colab-badge.svg\" alt=\"Open In Colab\"/></a>"
      ]
    },
    {
      "cell_type": "code",
      "execution_count": 2,
      "metadata": {
        "id": "i27oV0lev8jt"
      },
      "outputs": [],
      "source": [
        "# function converting score to grades\n",
        "def cekMutu(score):\n",
        "  if score >= 85:\n",
        "    return 'A'\n",
        "  elif score >= 70:\n",
        "    return 'B'\n",
        "  elif score >= 60:\n",
        "    return 'C'\n",
        "  else:\n",
        "    return 'D'"
      ]
    },
    {
      "cell_type": "code",
      "source": [
        "print(cekMutu(90))\n",
        "print(cekMutu(80))\n",
        "print(cekMutu(65))\n",
        "print(cekMutu(40))"
      ],
      "metadata": {
        "colab": {
          "base_uri": "https://localhost:8080/"
        },
        "id": "zl5dnW-xxlWh",
        "outputId": "1d44fb87-a4e6-4ced-adc7-9df8580010f0"
      },
      "execution_count": 3,
      "outputs": [
        {
          "output_type": "stream",
          "name": "stdout",
          "text": [
            "A\n",
            "B\n",
            "C\n",
            "D\n"
          ]
        }
      ]
    },
    {
      "cell_type": "code",
      "source": [
        "# function to return factor of a given number\n",
        "def factor(num):\n",
        "  listFactor = []\n",
        "  for i in range(1, num+1):\n",
        "    if num % i == 0:\n",
        "      listFactor.append(i)\n",
        "  \n",
        "  return listFactor"
      ],
      "metadata": {
        "id": "c5m1FoazyNoJ"
      },
      "execution_count": 8,
      "outputs": []
    },
    {
      "cell_type": "code",
      "source": [
        "factor(20)"
      ],
      "metadata": {
        "colab": {
          "base_uri": "https://localhost:8080/"
        },
        "id": "7CTuFAgmyqIw",
        "outputId": "c05fe86f-7b20-43bf-bffc-33adecbb9944"
      },
      "execution_count": 9,
      "outputs": [
        {
          "output_type": "execute_result",
          "data": {
            "text/plain": [
              "[1, 2, 4, 5, 10, 20]"
            ]
          },
          "metadata": {},
          "execution_count": 9
        }
      ]
    }
  ]
}